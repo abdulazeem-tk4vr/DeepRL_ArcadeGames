{
  "nbformat": 4,
  "nbformat_minor": 0,
  "metadata": {
    "colab": {
      "name": "Final Setup with improv.ipynb",
      "provenance": [],
      "collapsed_sections": [],
      "authorship_tag": "ABX9TyMVEsC/xecHQ6MMRkcm5R3s",
      "include_colab_link": true
    },
    "kernelspec": {
      "display_name": "Python 3",
      "name": "python3"
    },
    "language_info": {
      "name": "python"
    }
  },
  "cells": [
    {
      "cell_type": "markdown",
      "metadata": {
        "id": "view-in-github",
        "colab_type": "text"
      },
      "source": [
        "<a href=\"https://colab.research.google.com/github/abdulazeem-tk4vr/PingPong_Reinforced/blob/main/Final_Setup_with_improv.ipynb\" target=\"_parent\"><img src=\"https://colab.research.google.com/assets/colab-badge.svg\" alt=\"Open In Colab\"/></a>"
      ]
    },
    {
      "cell_type": "markdown",
      "metadata": {
        "id": "CXgaVgj-Ynhy"
      },
      "source": [
        "Remember to add the files from the DDQN folder to the content folder\n",
        "\n",
        "---\n",
        "\n"
      ]
    },
    {
      "cell_type": "code",
      "metadata": {
        "colab": {
          "base_uri": "https://localhost:8080/"
        },
        "id": "37MDMckztCe_",
        "outputId": "f19c7707-eb4a-498a-e48f-a282c59f213e"
      },
      "source": [
        "from google.colab import drive\n",
        "drive.mount('/content/gdrive/')"
      ],
      "execution_count": null,
      "outputs": [
        {
          "name": "stdout",
          "output_type": "stream",
          "text": [
            "Drive already mounted at /content/gdrive/; to attempt to forcibly remount, call drive.mount(\"/content/gdrive/\", force_remount=True).\n"
          ]
        }
      ]
    },
    {
      "cell_type": "code",
      "metadata": {
        "id": "VTHH_x7stGtH"
      },
      "source": [
        "import sys\n",
        "sys.path.append('/content/gdrive/MyDrive/DQN')"
      ],
      "execution_count": null,
      "outputs": []
    },
    {
      "cell_type": "code",
      "metadata": {
        "colab": {
          "base_uri": "https://localhost:8080/"
        },
        "id": "LlwhVTUmwDJq",
        "outputId": "91d68d2d-d0ca-4725-b08a-c817d38d6a9a"
      },
      "source": [
        "!cp drive/MyDrive/DDQN/main_ddqn.py .\n",
        "!cp drive/MyDrive/DDQN/deep_q_network.py .\n",
        "!cp drive/MyDrive/DDQN/ddqn_agent.py .\n",
        "!cp drive/MyDrive/DDQN/replay_memory.py .\n",
        "!cp drive/MyDrive/DDQN/utils.py .\n",
        "!cp drive/MyDrive/DDQN/models ."
      ],
      "execution_count": null,
      "outputs": [
        {
          "name": "stdout",
          "output_type": "stream",
          "text": [
            "cp: cannot stat 'drive/MyDrive/DDQN/main_ddqn.py': No such file or directory\n",
            "cp: cannot stat 'drive/MyDrive/DDQN/deep_q_network.py': No such file or directory\n",
            "cp: cannot stat 'drive/MyDrive/DDQN/ddqn_agent.py': No such file or directory\n",
            "cp: cannot stat 'drive/MyDrive/DDQN/replay_memory.py': No such file or directory\n",
            "cp: cannot stat 'drive/MyDrive/DDQN/utils.py': No such file or directory\n",
            "cp: cannot stat 'drive/MyDrive/DDQN/models': No such file or directory\n"
          ]
        }
      ]
    },
    {
      "cell_type": "code",
      "metadata": {
        "id": "Oa3Iyq8vwvkk"
      },
      "source": [
        "import utils\n",
        "import replay_memory\n",
        "\n",
        "import deep_q_network\n",
        "import main_ddqn\n",
        "import ddqn_agent"
      ],
      "execution_count": null,
      "outputs": []
    },
    {
      "cell_type": "code",
      "metadata": {
        "colab": {
          "base_uri": "https://localhost:8080/"
        },
        "id": "ER4NVXqLxEZV",
        "outputId": "4e04ba91-da0b-44a7-803b-41977f13080e"
      },
      "source": [
        "import urllib.request\n",
        "urllib.request.urlretrieve('http://www.atarimania.com/roms/Roms.rar','Roms.rar')\n",
        "!pip install unrar\n",
        "!unrar x Roms.rar\n",
        "!mkdir rars\n",
        "!mv HC\\ ROMS.zip   rars\n",
        "!mv ROMS.zip  rars\n",
        "!python -m atari_py.import_roms rars"
      ],
      "execution_count": null,
      "outputs": [
        {
          "name": "stdout",
          "output_type": "stream",
          "text": [
            "Collecting unrar\n",
            "  Downloading unrar-0.4-py3-none-any.whl (25 kB)\n",
            "Installing collected packages: unrar\n",
            "Successfully installed unrar-0.4\n",
            "\n",
            "UNRAR 5.50 freeware      Copyright (c) 1993-2017 Alexander Roshal\n",
            "\n",
            "\n",
            "Extracting from Roms.rar\n",
            "\n",
            "Extracting  HC ROMS.zip                                                  \b\b\b\b 36%\b\b\b\b\b  OK \n",
            "Extracting  ROMS.zip                                                     \b\b\b\b 74%\b\b\b\b 99%\b\b\b\b\b  OK \n",
            "All OK\n",
            "copying adventure.bin from ROMS/Adventure (1980) (Atari, Warren Robinett) (CX2613, CX2613P) (PAL).bin to /usr/local/lib/python3.7/dist-packages/atari_py/atari_roms/adventure.bin\n",
            "copying air_raid.bin from ROMS/Air Raid (Men-A-Vision) (PAL) ~.bin to /usr/local/lib/python3.7/dist-packages/atari_py/atari_roms/air_raid.bin\n",
            "copying alien.bin from ROMS/Alien (1982) (20th Century Fox Video Games, Douglas 'Dallas North' Neubauer) (11006) ~.bin to /usr/local/lib/python3.7/dist-packages/atari_py/atari_roms/alien.bin\n",
            "copying amidar.bin from ROMS/Amidar (1982) (Parker Brothers, Ed Temple) (PB5310) ~.bin to /usr/local/lib/python3.7/dist-packages/atari_py/atari_roms/amidar.bin\n",
            "copying assault.bin from ROMS/Assault (AKA Sky Alien) (1983) (Bomb - Onbase) (CA281).bin to /usr/local/lib/python3.7/dist-packages/atari_py/atari_roms/assault.bin\n",
            "copying asterix.bin from ROMS/Asterix (AKA Taz) (07-27-1983) (Atari, Jerome Domurat, Steve Woita) (CX2696) (Prototype).bin to /usr/local/lib/python3.7/dist-packages/atari_py/atari_roms/asterix.bin\n",
            "copying asteroids.bin from ROMS/Asteroids (1981) (Atari, Brad Stewart - Sears) (CX2649 - 49-75163) [no copyright] ~.bin to /usr/local/lib/python3.7/dist-packages/atari_py/atari_roms/asteroids.bin\n",
            "copying atlantis.bin from ROMS/Atlantis (Lost City of Atlantis) (1982) (Imagic, Dennis Koble) (720103-1A, 720103-1B, IA3203, IX-010-04) ~.bin to /usr/local/lib/python3.7/dist-packages/atari_py/atari_roms/atlantis.bin\n",
            "copying bank_heist.bin from ROMS/Bank Heist (Bonnie & Clyde, Cops 'n' Robbers, Hold-Up, Roaring 20's) (1983) (20th Century Fox Video Games, Bill Aspromonte) (11012) ~.bin to /usr/local/lib/python3.7/dist-packages/atari_py/atari_roms/bank_heist.bin\n",
            "copying battle_zone.bin from ROMS/Battlezone (1983) (Atari - GCC, Mike Feinstein, Brad Rice) (CX2681) ~.bin to /usr/local/lib/python3.7/dist-packages/atari_py/atari_roms/battle_zone.bin\n",
            "copying beam_rider.bin from ROMS/Beamrider (1984) (Activision - Cheshire Engineering, David Rolfe, Larry Zwick) (AZ-037-04) ~.bin to /usr/local/lib/python3.7/dist-packages/atari_py/atari_roms/beam_rider.bin\n",
            "copying berzerk.bin from ROMS/Berzerk (1982) (Atari, Dan Hitchens - Sears) (CX2650 - 49-75168) ~.bin to /usr/local/lib/python3.7/dist-packages/atari_py/atari_roms/berzerk.bin\n",
            "copying bowling.bin from ROMS/Bowling (1979) (Atari, Larry Kaplan - Sears) (CX2628 - 6-99842, 49-75117) ~.bin to /usr/local/lib/python3.7/dist-packages/atari_py/atari_roms/bowling.bin\n",
            "copying boxing.bin from ROMS/Boxing - La Boxe (1980) (Activision, Bob Whitehead) (AG-002, CAG-002, AG-002-04) ~.bin to /usr/local/lib/python3.7/dist-packages/atari_py/atari_roms/boxing.bin\n",
            "copying breakout.bin from ROMS/Breakout - Breakaway IV (Paddle) (1978) (Atari, Brad Stewart - Sears) (CX2622 - 6-99813, 49-75107) ~.bin to /usr/local/lib/python3.7/dist-packages/atari_py/atari_roms/breakout.bin\n",
            "copying carnival.bin from ROMS/Carnival (1982) (Coleco - Woodside Design Associates, Steve 'Jessica Stevens' Kitchen) (2468) ~.bin to /usr/local/lib/python3.7/dist-packages/atari_py/atari_roms/carnival.bin\n",
            "copying centipede.bin from ROMS/Centipede (1983) (Atari - GCC) (CX2676) ~.bin to /usr/local/lib/python3.7/dist-packages/atari_py/atari_roms/centipede.bin\n",
            "copying chopper_command.bin from ROMS/Chopper Command (1982) (Activision, Bob Whitehead) (AX-015, AX-015-04) ~.bin to /usr/local/lib/python3.7/dist-packages/atari_py/atari_roms/chopper_command.bin\n",
            "copying crazy_climber.bin from ROMS/Crazy Climber (1983) (Atari - Roklan, Joe Gaucher, Alex Leavens) (CX2683) ~.bin to /usr/local/lib/python3.7/dist-packages/atari_py/atari_roms/crazy_climber.bin\n",
            "copying defender.bin from ROMS/Defender (1982) (Atari, Robert C. Polaro, Alan J. Murphy - Sears) (CX2609 - 49-75186) ~.bin to /usr/local/lib/python3.7/dist-packages/atari_py/atari_roms/defender.bin\n",
            "copying demon_attack.bin from ROMS/Demon Attack (Death from Above) (1982) (Imagic, Rob Fulop) (720000-200, 720101-1B, 720101-1C, IA3200, IA3200C, IX-006-04) ~.bin to /usr/local/lib/python3.7/dist-packages/atari_py/atari_roms/demon_attack.bin\n",
            "copying donkey_kong.bin from ROMS/Donkey Kong (1982) (Coleco - Woodside Design Associates - Imaginative Systems Software, Garry Kitchen) (2451) ~.bin to /usr/local/lib/python3.7/dist-packages/atari_py/atari_roms/donkey_kong.bin\n",
            "copying double_dunk.bin from ROMS/Double Dunk (Super Basketball) (1989) (Atari, Matthew L. Hubbard) (CX26159) ~.bin to /usr/local/lib/python3.7/dist-packages/atari_py/atari_roms/double_dunk.bin\n",
            "copying elevator_action.bin from ROMS/Elevator Action (1983) (Atari, Dan Hitchens) (CX26126) (Prototype) ~.bin to /usr/local/lib/python3.7/dist-packages/atari_py/atari_roms/elevator_action.bin\n",
            "copying enduro.bin from ROMS/Enduro (1983) (Activision, Larry Miller) (AX-026, AX-026-04) ~.bin to /usr/local/lib/python3.7/dist-packages/atari_py/atari_roms/enduro.bin\n",
            "copying fishing_derby.bin from ROMS/Fishing Derby (1980) (Activision, David Crane) (AG-004) ~.bin to /usr/local/lib/python3.7/dist-packages/atari_py/atari_roms/fishing_derby.bin\n",
            "copying freeway.bin from ROMS/Freeway (1981) (Activision, David Crane) (AG-009, AG-009-04) ~.bin to /usr/local/lib/python3.7/dist-packages/atari_py/atari_roms/freeway.bin\n",
            "copying frogger.bin from ROMS/Frogger (1982) (Parker Brothers, Ed English, David Lamkins) (PB5300) ~.bin to /usr/local/lib/python3.7/dist-packages/atari_py/atari_roms/frogger.bin\n",
            "copying frostbite.bin from ROMS/Frostbite (1983) (Activision, Steve Cartwright) (AX-031) ~.bin to /usr/local/lib/python3.7/dist-packages/atari_py/atari_roms/frostbite.bin\n",
            "copying galaxian.bin from ROMS/Galaxian (1983) (Atari - GCC, Mark Ackerman, Tom Calderwood, Glenn Parker) (CX2684) ~.bin to /usr/local/lib/python3.7/dist-packages/atari_py/atari_roms/galaxian.bin\n",
            "copying gopher.bin from ROMS/Gopher (Gopher Attack) (1982) (U.S. Games Corporation - JWDA, Sylvia Day, Todd Marshall, Robin McDaniel, Henry Will IV) (VC2001) ~.bin to /usr/local/lib/python3.7/dist-packages/atari_py/atari_roms/gopher.bin\n",
            "copying gravitar.bin from ROMS/Gravitar (1983) (Atari, Dan Hitchens, Mimi Nyden) (CX2685) ~.bin to /usr/local/lib/python3.7/dist-packages/atari_py/atari_roms/gravitar.bin\n",
            "copying hero.bin from ROMS/H.E.R.O. (1984) (Activision, John Van Ryzin) (AZ-036-04) ~.bin to /usr/local/lib/python3.7/dist-packages/atari_py/atari_roms/hero.bin\n",
            "copying ice_hockey.bin from ROMS/Ice Hockey - Le Hockey Sur Glace (1981) (Activision, Alan Miller) (AX-012, CAX-012, AX-012-04) ~.bin to /usr/local/lib/python3.7/dist-packages/atari_py/atari_roms/ice_hockey.bin\n",
            "copying jamesbond.bin from ROMS/James Bond 007 (James Bond Agent 007) (1984) (Parker Brothers - On-Time Software, Joe Gaucher, Louis Marbel) (PB5110) ~.bin to /usr/local/lib/python3.7/dist-packages/atari_py/atari_roms/jamesbond.bin\n",
            "copying journey_escape.bin from ROMS/Journey Escape (1983) (Data Age, J. Ray Dettling) (112-006) ~.bin to /usr/local/lib/python3.7/dist-packages/atari_py/atari_roms/journey_escape.bin\n",
            "copying kaboom.bin from ROMS/Kaboom! (Paddle) (1981) (Activision, Larry Kaplan, David Crane) (AG-010, AG-010-04) ~.bin to /usr/local/lib/python3.7/dist-packages/atari_py/atari_roms/kaboom.bin\n",
            "copying kangaroo.bin from ROMS/Kangaroo (1983) (Atari - GCC, Kevin Osborn) (CX2689) ~.bin to /usr/local/lib/python3.7/dist-packages/atari_py/atari_roms/kangaroo.bin\n",
            "copying keystone_kapers.bin from ROMS/Keystone Kapers - Raueber und Gendarm (1983) (Activision, Garry Kitchen - Ariola) (EAX-025, EAX-025-04I - 711 025-725) (PAL).bin to /usr/local/lib/python3.7/dist-packages/atari_py/atari_roms/keystone_kapers.bin\n",
            "copying king_kong.bin from ROMS/King Kong (1982) (Tigervision - Software Electronics Corporation, Karl T. Olinger - Teldec) (7-001 - 3.60001 VE) (PAL).bin to /usr/local/lib/python3.7/dist-packages/atari_py/atari_roms/king_kong.bin\n",
            "copying koolaid.bin from ROMS/Kool-Aid Man (Kool Aid Pitcher Man) (1983) (M Network, Stephen Tatsumi, Jane Terjung - Kool Aid) (MT4648) ~.bin to /usr/local/lib/python3.7/dist-packages/atari_py/atari_roms/koolaid.bin\n",
            "copying krull.bin from ROMS/Krull (1983) (Atari, Jerome Domurat, Dave Staugas) (CX2682) ~.bin to /usr/local/lib/python3.7/dist-packages/atari_py/atari_roms/krull.bin\n",
            "copying kung_fu_master.bin from ROMS/Kung-Fu Master (1987) (Activision - Imagineering, Dan Kitchen, Garry Kitchen) (AG-039-04) ~.bin to /usr/local/lib/python3.7/dist-packages/atari_py/atari_roms/kung_fu_master.bin\n",
            "copying laser_gates.bin from ROMS/Laser Gates (AKA Innerspace) (1983) (Imagic, Dan Oliver) (720118-2A, 13208, EIX-007-04I) (PAL).bin to /usr/local/lib/python3.7/dist-packages/atari_py/atari_roms/laser_gates.bin\n",
            "copying lost_luggage.bin from ROMS/Lost Luggage (Airport Mayhem) (1982) (Apollo - Games by Apollo, Larry Minor, Ernie Runyon, Ed Salvo) (AP-2004) [no opening scene] ~.bin to /usr/local/lib/python3.7/dist-packages/atari_py/atari_roms/lost_luggage.bin\n",
            "copying montezuma_revenge.bin from ROMS/Montezuma's Revenge - Featuring Panama Joe (1984) (Parker Brothers - JWDA, Henry Will IV) (PB5760) ~.bin to /usr/local/lib/python3.7/dist-packages/atari_py/atari_roms/montezuma_revenge.bin\n",
            "copying mr_do.bin from ROMS/Mr. Do! (1983) (CBS Electronics, Ed English) (4L4478) (PAL).bin to /usr/local/lib/python3.7/dist-packages/atari_py/atari_roms/mr_do.bin\n",
            "copying ms_pacman.bin from ROMS/Ms. Pac-Man (1983) (Atari - GCC, Mark Ackerman, Glenn Parker) (CX2675) ~.bin to /usr/local/lib/python3.7/dist-packages/atari_py/atari_roms/ms_pacman.bin\n",
            "copying name_this_game.bin from ROMS/Name This Game (Guardians of Treasure) (1983) (U.S. Games Corporation - JWDA, Roger Booth, Sylvia Day, Ron Dubren, Todd Marshall, Robin McDaniel, Wes Trager, Henry Will IV) (VC1007) ~.bin to /usr/local/lib/python3.7/dist-packages/atari_py/atari_roms/name_this_game.bin\n",
            "copying pacman.bin from ROMS/Pac-Man (1982) (Atari, Tod Frye) (CX2646) (PAL).bin to /usr/local/lib/python3.7/dist-packages/atari_py/atari_roms/pacman.bin\n",
            "copying phoenix.bin from ROMS/Phoenix (1983) (Atari - GCC, Mike Feinstein, John Mracek) (CX2673) ~.bin to /usr/local/lib/python3.7/dist-packages/atari_py/atari_roms/phoenix.bin\n",
            "copying video_pinball.bin from ROMS/Pinball (AKA Video Pinball) (Zellers).bin to /usr/local/lib/python3.7/dist-packages/atari_py/atari_roms/video_pinball.bin\n",
            "copying pitfall.bin from ROMS/Pitfall! - Pitfall Harry's Jungle Adventure (Jungle Runner) (1982) (Activision, David Crane) (AX-018, AX-018-04) ~.bin to /usr/local/lib/python3.7/dist-packages/atari_py/atari_roms/pitfall.bin\n",
            "copying pooyan.bin from ROMS/Pooyan (1983) (Konami) (RC 100-X 02) ~.bin to /usr/local/lib/python3.7/dist-packages/atari_py/atari_roms/pooyan.bin\n",
            "copying private_eye.bin from ROMS/Private Eye (1984) (Activision, Bob Whitehead) (AG-034-04) ~.bin to /usr/local/lib/python3.7/dist-packages/atari_py/atari_roms/private_eye.bin\n",
            "copying qbert.bin from ROMS/Q-bert (1983) (Parker Brothers - Western Technologies, Dave Hampton, Tom Sloper) (PB5360) ~.bin to /usr/local/lib/python3.7/dist-packages/atari_py/atari_roms/qbert.bin\n",
            "copying riverraid.bin from ROMS/River Raid (1982) (Activision, Carol Shaw) (AX-020, AX-020-04) ~.bin to /usr/local/lib/python3.7/dist-packages/atari_py/atari_roms/riverraid.bin\n",
            "copying road_runner.bin from patched version of ROMS/Road Runner (1989) (Atari - Bobco, Robert C. Polaro) (CX2663) ~.bin to /usr/local/lib/python3.7/dist-packages/atari_py/atari_roms/road_runner.bin\n",
            "copying robotank.bin from ROMS/Robot Tank (Robotank) (1983) (Activision, Alan Miller) (AZ-028, AG-028-04) ~.bin to /usr/local/lib/python3.7/dist-packages/atari_py/atari_roms/robotank.bin\n",
            "copying seaquest.bin from ROMS/Seaquest (1983) (Activision, Steve Cartwright) (AX-022) ~.bin to /usr/local/lib/python3.7/dist-packages/atari_py/atari_roms/seaquest.bin\n",
            "copying sir_lancelot.bin from ROMS/Sir Lancelot (1983) (Xonox - K-Tel Software - Product Guild, Anthony R. Henderson) (99006, 6220) (PAL).bin to /usr/local/lib/python3.7/dist-packages/atari_py/atari_roms/sir_lancelot.bin\n",
            "copying skiing.bin from ROMS/Skiing - Le Ski (1980) (Activision, Bob Whitehead) (AG-005, CAG-005, AG-005-04) ~.bin to /usr/local/lib/python3.7/dist-packages/atari_py/atari_roms/skiing.bin\n",
            "copying solaris.bin from ROMS/Solaris (The Last Starfighter, Star Raiders II, Universe) (1986) (Atari, Douglas Neubauer, Mimi Nyden) (CX26136) ~.bin to /usr/local/lib/python3.7/dist-packages/atari_py/atari_roms/solaris.bin\n",
            "copying space_invaders.bin from ROMS/Space Invaders (1980) (Atari, Richard Maurer - Sears) (CX2632 - 49-75153) ~.bin to /usr/local/lib/python3.7/dist-packages/atari_py/atari_roms/space_invaders.bin\n",
            "copying star_gunner.bin from ROMS/Stargunner (1983) (Telesys, Alex Leavens) (1005) ~.bin to /usr/local/lib/python3.7/dist-packages/atari_py/atari_roms/star_gunner.bin\n",
            "copying surround.bin from ROMS/Surround (32 in 1) (Bit Corporation) (R320).bin to /usr/local/lib/python3.7/dist-packages/atari_py/atari_roms/surround.bin\n",
            "copying tennis.bin from ROMS/Tennis - Le Tennis (1981) (Activision, Alan Miller) (AG-007, CAG-007) ~.bin to /usr/local/lib/python3.7/dist-packages/atari_py/atari_roms/tennis.bin\n",
            "copying time_pilot.bin from ROMS/Time Pilot (1983) (Coleco - Woodside Design Associates, Harley H. Puthuff Jr.) (2663) ~.bin to /usr/local/lib/python3.7/dist-packages/atari_py/atari_roms/time_pilot.bin\n",
            "copying trondead.bin from ROMS/TRON - Deadly Discs (TRON Joystick) (1983) (M Network - INTV - APh Technological Consulting, Jeff Ronne, Brett Stutz) (MT5662) ~.bin to /usr/local/lib/python3.7/dist-packages/atari_py/atari_roms/trondead.bin\n",
            "copying tutankham.bin from ROMS/Tutankham (1983) (Parker Brothers, Dave Engman, Dawn Stockbridge) (PB5340) ~.bin to /usr/local/lib/python3.7/dist-packages/atari_py/atari_roms/tutankham.bin\n",
            "copying up_n_down.bin from ROMS/Up 'n Down (1984) (SEGA - Beck-Tech, Steve Beck, Phat Ho) (009-01) ~.bin to /usr/local/lib/python3.7/dist-packages/atari_py/atari_roms/up_n_down.bin\n",
            "copying venture.bin from ROMS/Venture (1982) (Coleco, Joseph Biel) (2457) ~.bin to /usr/local/lib/python3.7/dist-packages/atari_py/atari_roms/venture.bin\n",
            "copying pong.bin from ROMS/Video Olympics - Pong Sports (Paddle) (1977) (Atari, Joe Decuir - Sears) (CX2621 - 99806, 6-99806, 49-75104) ~.bin to /usr/local/lib/python3.7/dist-packages/atari_py/atari_roms/pong.bin\n",
            "copying wizard_of_wor.bin from ROMS/Wizard of Wor (1982) (CBS Electronics - Roklan, Joe Hellesen, Joe Wagner) (M8774, M8794) ~.bin to /usr/local/lib/python3.7/dist-packages/atari_py/atari_roms/wizard_of_wor.bin\n",
            "copying yars_revenge.bin from ROMS/Yars' Revenge (Time Freeze) (1982) (Atari, Howard Scott Warshaw - Sears) (CX2655 - 49-75167) ~.bin to /usr/local/lib/python3.7/dist-packages/atari_py/atari_roms/yars_revenge.bin\n",
            "copying zaxxon.bin from ROMS/Zaxxon (1983) (Coleco) (2454) ~.bin to /usr/local/lib/python3.7/dist-packages/atari_py/atari_roms/zaxxon.bin\n"
          ]
        }
      ]
    },
    {
      "cell_type": "code",
      "metadata": {
        "colab": {
          "background_save": true,
          "base_uri": "https://localhost:8080/"
        },
        "id": "UX1GyZHK4iav",
        "outputId": "cebc766d-487f-4806-a0cf-c3ea6542279f"
      },
      "source": [
        "!python3 main_ddqn.py"
      ],
      "execution_count": null,
      "outputs": [
        {
          "name": "stdout",
          "output_type": "stream",
          "text": [
            "<string>:6: VisibleDeprecationWarning: Creating an ndarray from ragged nested sequences (which is a list-or-tuple of lists-or-tuples-or ndarrays with different lengths or shapes) is deprecated. If you meant to do this, you must specify 'dtype=object' when creating the ndarray\n",
            "tcmalloc: large alloc 5644804096 bytes == 0x5559723c8000 @  0x7fd002c60001 0x7fd0000cb54f 0x7fd00011bb58 0x7fd00011fb17 0x7fd0001be203 0x55596c546544 0x55596c546240 0x55596c5ba627 0x55596c548039 0x55596c589159 0x55596c5860a4 0x55596c546c52 0x55596c5b9c25 0x55596c5b49ee 0x55596c54848c 0x55596c589159 0x55596c5860a4 0x55596c546d49 0x55596c5ba94f 0x55596c5b49ee 0x55596c5b46f3 0x55596c67e4c2 0x55596c67e83d 0x55596c67e6e6 0x55596c656163 0x55596c655e0c 0x7fd001a48bf7 0x55596c655cea\n",
            "tcmalloc: large alloc 5644804096 bytes == 0x555ac2b16000 @  0x7fd002c60001 0x7fd0000cb54f 0x7fd00011bb58 0x7fd00011fb17 0x7fd0001be203 0x55596c546544 0x55596c546240 0x55596c5ba627 0x55596c548039 0x55596c589159 0x55596c5860a4 0x55596c546c52 0x55596c5b9c25 0x55596c5b49ee 0x55596c54848c 0x55596c589159 0x55596c5860a4 0x55596c546d49 0x55596c5ba94f 0x55596c5b49ee 0x55596c5b46f3 0x55596c67e4c2 0x55596c67e83d 0x55596c67e6e6 0x55596c656163 0x55596c655e0c 0x7fd001a48bf7 0x55596c655cea\n",
            "episode:  0 score:  -20.0  average score -20.0 best score -inf epsilon 0.99 steps 931\n",
            "episode:  1 score:  -21.0  average score -20.5 best score -20.00 epsilon 0.98 steps 1751\n",
            "episode:  2 score:  -20.0  average score -20.3 best score -20.00 epsilon 0.97 steps 2714\n",
            "episode:  3 score:  -21.0  average score -20.5 best score -20.00 epsilon 0.96 steps 3628\n",
            "episode:  4 score:  -20.0  average score -20.4 best score -20.00 epsilon 0.95 steps 4669\n",
            "episode:  5 score:  -21.0  average score -20.5 best score -20.00 epsilon 0.94 steps 5553\n",
            "episode:  6 score:  -19.0  average score -20.3 best score -20.00 epsilon 0.93 steps 6677\n",
            "episode:  7 score:  -21.0  average score -20.4 best score -20.00 epsilon 0.93 steps 7441\n",
            "episode:  8 score:  -21.0  average score -20.4 best score -20.00 epsilon 0.92 steps 8372\n",
            "episode:  9 score:  -21.0  average score -20.5 best score -20.00 epsilon 0.91 steps 9323\n",
            "episode:  10 score:  -21.0  average score -20.5 best score -20.00 epsilon 0.90 steps 10175\n",
            "episode:  11 score:  -21.0  average score -20.6 best score -20.00 epsilon 0.89 steps 10999\n",
            "episode:  12 score:  -20.0  average score -20.5 best score -20.00 epsilon 0.88 steps 11841\n",
            "episode:  13 score:  -21.0  average score -20.6 best score -20.00 epsilon 0.87 steps 12663\n",
            "episode:  14 score:  -21.0  average score -20.6 best score -20.00 epsilon 0.87 steps 13427\n",
            "episode:  15 score:  -21.0  average score -20.6 best score -20.00 epsilon 0.86 steps 14252\n",
            "episode:  16 score:  -18.0  average score -20.5 best score -20.00 epsilon 0.85 steps 15346\n",
            "episode:  17 score:  -20.0  average score -20.4 best score -20.00 epsilon 0.84 steps 16385\n",
            "episode:  18 score:  -21.0  average score -20.5 best score -20.00 epsilon 0.83 steps 17178\n",
            "episode:  19 score:  -21.0  average score -20.5 best score -20.00 epsilon 0.82 steps 17998\n",
            "episode:  20 score:  -21.0  average score -20.5 best score -20.00 epsilon 0.81 steps 18781\n",
            "episode:  21 score:  -19.0  average score -20.5 best score -20.00 epsilon 0.80 steps 19789\n",
            "episode:  22 score:  -21.0  average score -20.5 best score -20.00 epsilon 0.79 steps 20613\n",
            "episode:  23 score:  -20.0  average score -20.5 best score -20.00 epsilon 0.78 steps 21573\n",
            "episode:  24 score:  -21.0  average score -20.5 best score -20.00 epsilon 0.78 steps 22337\n",
            "episode:  25 score:  -20.0  average score -20.5 best score -20.00 epsilon 0.77 steps 23333\n",
            "episode:  26 score:  -20.0  average score -20.4 best score -20.00 epsilon 0.76 steps 24296\n",
            "episode:  27 score:  -21.0  average score -20.5 best score -20.00 epsilon 0.75 steps 25060\n",
            "episode:  28 score:  -21.0  average score -20.5 best score -20.00 epsilon 0.74 steps 25824\n",
            "episode:  29 score:  -19.0  average score -20.4 best score -20.00 epsilon 0.73 steps 27006\n",
            "episode:  30 score:  -20.0  average score -20.4 best score -20.00 epsilon 0.72 steps 27908\n",
            "episode:  31 score:  -20.0  average score -20.4 best score -20.00 epsilon 0.71 steps 28810\n",
            "episode:  32 score:  -21.0  average score -20.4 best score -20.00 epsilon 0.70 steps 29574\n",
            "episode:  33 score:  -21.0  average score -20.4 best score -20.00 epsilon 0.70 steps 30520\n",
            "episode:  34 score:  -21.0  average score -20.5 best score -20.00 epsilon 0.69 steps 31302\n",
            "episode:  35 score:  -20.0  average score -20.4 best score -20.00 epsilon 0.68 steps 32280\n",
            "episode:  36 score:  -21.0  average score -20.5 best score -20.00 epsilon 0.67 steps 33119\n",
            "episode:  37 score:  -20.0  average score -20.4 best score -20.00 epsilon 0.66 steps 34170\n",
            "episode:  38 score:  -20.0  average score -20.4 best score -20.00 epsilon 0.65 steps 35042\n",
            "episode:  39 score:  -21.0  average score -20.4 best score -20.00 epsilon 0.64 steps 35924\n",
            "episode:  40 score:  -21.0  average score -20.5 best score -20.00 epsilon 0.63 steps 36716\n",
            "episode:  41 score:  -20.0  average score -20.5 best score -20.00 epsilon 0.62 steps 37674\n",
            "episode:  42 score:  -20.0  average score -20.4 best score -20.00 epsilon 0.61 steps 38706\n",
            "episode:  43 score:  -20.0  average score -20.4 best score -20.00 epsilon 0.60 steps 39544\n",
            "episode:  44 score:  -21.0  average score -20.4 best score -20.00 epsilon 0.60 steps 40415\n",
            "episode:  45 score:  -21.0  average score -20.5 best score -20.00 epsilon 0.59 steps 41301\n",
            "episode:  46 score:  -20.0  average score -20.4 best score -20.00 epsilon 0.58 steps 42205\n",
            "episode:  47 score:  -21.0  average score -20.5 best score -20.00 epsilon 0.57 steps 43016\n",
            "episode:  48 score:  -21.0  average score -20.5 best score -20.00 epsilon 0.56 steps 44008\n",
            "episode:  49 score:  -19.0  average score -20.4 best score -20.00 epsilon 0.55 steps 45094\n",
            "episode:  50 score:  -21.0  average score -20.5 best score -20.00 epsilon 0.54 steps 45942\n",
            "episode:  51 score:  -21.0  average score -20.5 best score -20.00 epsilon 0.53 steps 46910\n",
            "episode:  52 score:  -20.0  average score -20.5 best score -20.00 epsilon 0.52 steps 47808\n",
            "episode:  53 score:  -21.0  average score -20.5 best score -20.00 epsilon 0.51 steps 48792\n",
            "episode:  54 score:  -21.0  average score -20.5 best score -20.00 epsilon 0.50 steps 49676\n",
            "episode:  55 score:  -17.0  average score -20.4 best score -20.00 epsilon 0.49 steps 50858\n",
            "episode:  56 score:  -21.0  average score -20.4 best score -20.00 epsilon 0.48 steps 51890\n",
            "episode:  57 score:  -19.0  average score -20.4 best score -20.00 epsilon 0.47 steps 53004\n",
            "episode:  58 score:  -20.0  average score -20.4 best score -20.00 epsilon 0.46 steps 53847\n",
            "episode:  59 score:  -20.0  average score -20.4 best score -20.00 epsilon 0.45 steps 55116\n",
            "episode:  60 score:  -17.0  average score -20.3 best score -20.00 epsilon 0.44 steps 56396\n",
            "episode:  61 score:  -20.0  average score -20.3 best score -20.00 epsilon 0.43 steps 57267\n",
            "episode:  62 score:  -20.0  average score -20.3 best score -20.00 epsilon 0.42 steps 58342\n",
            "episode:  63 score:  -20.0  average score -20.3 best score -20.00 epsilon 0.41 steps 59352\n",
            "episode:  64 score:  -20.0  average score -20.3 best score -20.00 epsilon 0.40 steps 60273\n",
            "episode:  65 score:  -21.0  average score -20.3 best score -20.00 epsilon 0.39 steps 61293\n",
            "episode:  66 score:  -21.0  average score -20.3 best score -20.00 epsilon 0.38 steps 62390\n",
            "episode:  67 score:  -18.0  average score -20.3 best score -20.00 epsilon 0.37 steps 63413\n",
            "episode:  68 score:  -18.0  average score -20.3 best score -20.00 epsilon 0.35 steps 64612\n",
            "episode:  69 score:  -21.0  average score -20.3 best score -20.00 epsilon 0.35 steps 65466\n",
            "episode:  70 score:  -19.0  average score -20.3 best score -20.00 epsilon 0.34 steps 66442\n",
            "episode:  71 score:  -21.0  average score -20.3 best score -20.00 epsilon 0.32 steps 67543\n",
            "episode:  72 score:  -20.0  average score -20.3 best score -20.00 epsilon 0.32 steps 68499\n",
            "episode:  73 score:  -18.0  average score -20.2 best score -20.00 epsilon 0.30 steps 69724\n",
            "episode:  74 score:  -18.0  average score -20.2 best score -20.00 epsilon 0.29 steps 70760\n",
            "episode:  75 score:  -20.0  average score -20.2 best score -20.00 epsilon 0.28 steps 72027\n",
            "episode:  76 score:  -21.0  average score -20.2 best score -20.00 epsilon 0.27 steps 72946\n",
            "episode:  77 score:  -20.0  average score -20.2 best score -20.00 epsilon 0.26 steps 73925\n"
          ]
        }
      ]
    }
  ]
}