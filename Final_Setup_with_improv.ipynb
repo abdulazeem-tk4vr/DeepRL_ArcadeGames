{
  "nbformat": 4,
  "nbformat_minor": 0,
  "metadata": {
    "colab": {
      "name": "Final Setup with improv.ipynb",
      "provenance": [],
      "collapsed_sections": [],
      "authorship_tag": "ABX9TyMVEsC/xecHQ6MMRkcm5R3s",
      "include_colab_link": true
    },
    "kernelspec": {
      "display_name": "Python 3",
      "name": "python3"
    },
    "language_info": {
      "name": "python"
    },
    "accelerator": "GPU"
  },
  "cells": [
    {
      "cell_type": "markdown",
      "metadata": {
        "id": "view-in-github",
        "colab_type": "text"
      },
      "source": [
        "<a href=\"https://colab.research.google.com/github/abdulazeem-tk4vr/PingPong_Reinforced/blob/main/Final_Setup_with_improv.ipynb\" target=\"_parent\"><img src=\"https://colab.research.google.com/assets/colab-badge.svg\" alt=\"Open In Colab\"/></a>"
      ]
    },
    {
      "cell_type": "markdown",
      "metadata": {
        "id": "CXgaVgj-Ynhy"
      },
      "source": [
        "Remember to add the files from the DDQN folder to the content folder\n",
        "\n",
        "---\n",
        "\n"
      ]
    },
    {
      "cell_type": "code",
      "metadata": {
        "colab": {
          "base_uri": "https://localhost:8080/"
        },
        "id": "37MDMckztCe_",
        "outputId": "18ae8443-d38a-492d-b1c8-3d5f50568a49"
      },
      "source": [
        "from google.colab import drive\n",
        "drive.mount('/content/gdrive/')"
      ],
      "execution_count": null,
      "outputs": [
        {
          "output_type": "stream",
          "name": "stdout",
          "text": [
            "Mounted at /content/gdrive/\n"
          ]
        }
      ]
    },
    {
      "cell_type": "code",
      "metadata": {
        "id": "VTHH_x7stGtH"
      },
      "source": [
        "import sys\n",
        "sys.path.append('/content/gdrive/MyDrive/DQN')"
      ],
      "execution_count": null,
      "outputs": []
    },
    {
      "cell_type": "code",
      "metadata": {
        "id": "LlwhVTUmwDJq",
        "colab": {
          "base_uri": "https://localhost:8080/"
        },
        "outputId": "beb3fffd-85bd-4087-9dd4-02b883412145"
      },
      "source": [
        "!cp drive/MyDrive/DDQN/main_ddqn.py .\n",
        "!cp drive/MyDrive/DDQN/deep_q_network.py .\n",
        "!cp drive/MyDrive/DDQN/ddqn_agent.py .\n",
        "!cp drive/MyDrive/DDQN/replay_memory.py .\n",
        "!cp drive/MyDrive/DDQN/utils.py .\n",
        "!cp drive/MyDrive/DDQN/models ."
      ],
      "execution_count": null,
      "outputs": [
        {
          "output_type": "stream",
          "name": "stdout",
          "text": [
            "cp: cannot stat 'drive/MyDrive/DDQN/main_ddqn.py': No such file or directory\n",
            "cp: cannot stat 'drive/MyDrive/DDQN/deep_q_network.py': No such file or directory\n",
            "cp: cannot stat 'drive/MyDrive/DDQN/ddqn_agent.py': No such file or directory\n",
            "cp: cannot stat 'drive/MyDrive/DDQN/replay_memory.py': No such file or directory\n",
            "cp: cannot stat 'drive/MyDrive/DDQN/utils.py': No such file or directory\n",
            "cp: cannot stat 'drive/MyDrive/DDQN/models': No such file or directory\n"
          ]
        }
      ]
    },
    {
      "cell_type": "code",
      "metadata": {
        "id": "Oa3Iyq8vwvkk"
      },
      "source": [
        "import utils\n",
        "import replay_memory\n",
        "\n",
        "import deep_q_network\n",
        "import main_ddqn\n",
        "import ddqn_agent"
      ],
      "execution_count": null,
      "outputs": []
    },
    {
      "cell_type": "code",
      "metadata": {
        "id": "ER4NVXqLxEZV",
        "colab": {
          "base_uri": "https://localhost:8080/"
        },
        "outputId": "4e606913-b336-4faf-eb81-9db1ad521113"
      },
      "source": [
        "import urllib.request\n",
        "urllib.request.urlretrieve('http://www.atarimania.com/roms/Roms.rar','Roms.rar')\n",
        "!pip install unrar\n",
        "!unrar x Roms.rar\n",
        "!mkdir rars\n",
        "!mv HC\\ ROMS.zip   rars\n",
        "!mv ROMS.zip  rars\n",
        "!python -m atari_py.import_roms rars"
      ],
      "execution_count": null,
      "outputs": [
        {
          "output_type": "stream",
          "name": "stdout",
          "text": [
            "Collecting unrar\n",
            "  Downloading unrar-0.4-py3-none-any.whl (25 kB)\n",
            "Installing collected packages: unrar\n",
            "Successfully installed unrar-0.4\n",
            "\n",
            "UNRAR 5.50 freeware      Copyright (c) 1993-2017 Alexander Roshal\n",
            "\n",
            "\n",
            "Extracting from Roms.rar\n",
            "\n",
            "Extracting  HC ROMS.zip                                                  \b\b\b\b 36%\b\b\b\b\b  OK \n",
            "Extracting  ROMS.zip                                                     \b\b\b\b 74%\b\b\b\b 99%\b\b\b\b\b  OK \n",
            "All OK\n",
            "copying adventure.bin from HC ROMS/BY ALPHABET (PAL)/A-G/Adventure (PAL).bin to /usr/local/lib/python3.7/dist-packages/atari_py/atari_roms/adventure.bin\n",
            "copying air_raid.bin from HC ROMS/BY ALPHABET (PAL)/A-G/Air Raid (PAL).bin to /usr/local/lib/python3.7/dist-packages/atari_py/atari_roms/air_raid.bin\n",
            "copying alien.bin from HC ROMS/BY ALPHABET (PAL)/A-G/REMAINING NTSC ORIGINALS/Alien.bin to /usr/local/lib/python3.7/dist-packages/atari_py/atari_roms/alien.bin\n",
            "copying crazy_climber.bin from HC ROMS/BY ALPHABET (PAL)/A-G/REMAINING NTSC ORIGINALS/Crazy Climber.bin to /usr/local/lib/python3.7/dist-packages/atari_py/atari_roms/crazy_climber.bin\n",
            "copying elevator_action.bin from HC ROMS/BY ALPHABET (PAL)/A-G/REMAINING NTSC ORIGINALS/Elevator Action (Prototype).bin to /usr/local/lib/python3.7/dist-packages/atari_py/atari_roms/elevator_action.bin\n",
            "copying gravitar.bin from HC ROMS/BY ALPHABET (PAL)/A-G/REMAINING NTSC ORIGINALS/Gravitar.bin to /usr/local/lib/python3.7/dist-packages/atari_py/atari_roms/gravitar.bin\n",
            "copying keystone_kapers.bin from HC ROMS/BY ALPHABET (PAL)/H-R/Keystone Kapers (PAL).bin to /usr/local/lib/python3.7/dist-packages/atari_py/atari_roms/keystone_kapers.bin\n",
            "copying king_kong.bin from HC ROMS/BY ALPHABET (PAL)/H-R/King Kong (PAL).bin to /usr/local/lib/python3.7/dist-packages/atari_py/atari_roms/king_kong.bin\n",
            "copying laser_gates.bin from HC ROMS/BY ALPHABET (PAL)/H-R/Laser Gates (PAL).bin to /usr/local/lib/python3.7/dist-packages/atari_py/atari_roms/laser_gates.bin\n",
            "copying mr_do.bin from HC ROMS/BY ALPHABET (PAL)/H-R/Mr. Do! (PAL).bin to /usr/local/lib/python3.7/dist-packages/atari_py/atari_roms/mr_do.bin\n",
            "copying pacman.bin from HC ROMS/BY ALPHABET (PAL)/H-R/Pac-Man (PAL).bin to /usr/local/lib/python3.7/dist-packages/atari_py/atari_roms/pacman.bin\n",
            "copying jamesbond.bin from HC ROMS/BY ALPHABET (PAL)/H-R/REMAINING NTSC ORIGINALS/James Bond 007.bin to /usr/local/lib/python3.7/dist-packages/atari_py/atari_roms/jamesbond.bin\n",
            "copying koolaid.bin from HC ROMS/BY ALPHABET (PAL)/H-R/REMAINING NTSC ORIGINALS/Kool-Aid Man.bin to /usr/local/lib/python3.7/dist-packages/atari_py/atari_roms/koolaid.bin\n",
            "copying krull.bin from HC ROMS/BY ALPHABET (PAL)/H-R/REMAINING NTSC ORIGINALS/Krull.bin to /usr/local/lib/python3.7/dist-packages/atari_py/atari_roms/krull.bin\n",
            "copying montezuma_revenge.bin from HC ROMS/BY ALPHABET (PAL)/H-R/REMAINING NTSC ORIGINALS/Montezuma's Revenge - Featuring Panama Joe.bin to /usr/local/lib/python3.7/dist-packages/atari_py/atari_roms/montezuma_revenge.bin\n",
            "copying star_gunner.bin from HC ROMS/BY ALPHABET (PAL)/S-Z/REMAINING NTSC ORIGINALS/Stargunner.bin to /usr/local/lib/python3.7/dist-packages/atari_py/atari_roms/star_gunner.bin\n",
            "copying time_pilot.bin from HC ROMS/BY ALPHABET (PAL)/S-Z/REMAINING NTSC ORIGINALS/Time Pilot.bin to /usr/local/lib/python3.7/dist-packages/atari_py/atari_roms/time_pilot.bin\n",
            "copying up_n_down.bin from HC ROMS/BY ALPHABET (PAL)/S-Z/REMAINING NTSC ORIGINALS/Up 'n Down.bin to /usr/local/lib/python3.7/dist-packages/atari_py/atari_roms/up_n_down.bin\n",
            "copying sir_lancelot.bin from HC ROMS/BY ALPHABET (PAL)/S-Z/Sir Lancelot (PAL).bin to /usr/local/lib/python3.7/dist-packages/atari_py/atari_roms/sir_lancelot.bin\n",
            "copying amidar.bin from HC ROMS/BY ALPHABET/A-G/Amidar.bin to /usr/local/lib/python3.7/dist-packages/atari_py/atari_roms/amidar.bin\n",
            "copying asteroids.bin from HC ROMS/BY ALPHABET/A-G/Asteroids [no copyright].bin to /usr/local/lib/python3.7/dist-packages/atari_py/atari_roms/asteroids.bin\n",
            "copying atlantis.bin from HC ROMS/BY ALPHABET/A-G/Atlantis.bin to /usr/local/lib/python3.7/dist-packages/atari_py/atari_roms/atlantis.bin\n",
            "copying bank_heist.bin from HC ROMS/BY ALPHABET/A-G/Bank Heist.bin to /usr/local/lib/python3.7/dist-packages/atari_py/atari_roms/bank_heist.bin\n",
            "copying battle_zone.bin from HC ROMS/BY ALPHABET/A-G/Battlezone.bin to /usr/local/lib/python3.7/dist-packages/atari_py/atari_roms/battle_zone.bin\n",
            "copying beam_rider.bin from HC ROMS/BY ALPHABET/A-G/Beamrider.bin to /usr/local/lib/python3.7/dist-packages/atari_py/atari_roms/beam_rider.bin\n",
            "copying berzerk.bin from HC ROMS/BY ALPHABET/A-G/Berzerk.bin to /usr/local/lib/python3.7/dist-packages/atari_py/atari_roms/berzerk.bin\n",
            "copying bowling.bin from HC ROMS/BY ALPHABET/A-G/Bowling.bin to /usr/local/lib/python3.7/dist-packages/atari_py/atari_roms/bowling.bin\n",
            "copying boxing.bin from HC ROMS/BY ALPHABET/A-G/Boxing.bin to /usr/local/lib/python3.7/dist-packages/atari_py/atari_roms/boxing.bin\n",
            "copying breakout.bin from HC ROMS/BY ALPHABET/A-G/Breakout - Breakaway IV.bin to /usr/local/lib/python3.7/dist-packages/atari_py/atari_roms/breakout.bin\n",
            "copying carnival.bin from HC ROMS/BY ALPHABET/A-G/Carnival.bin to /usr/local/lib/python3.7/dist-packages/atari_py/atari_roms/carnival.bin\n",
            "copying centipede.bin from HC ROMS/BY ALPHABET/A-G/Centipede.bin to /usr/local/lib/python3.7/dist-packages/atari_py/atari_roms/centipede.bin\n",
            "copying chopper_command.bin from HC ROMS/BY ALPHABET/A-G/Chopper Command.bin to /usr/local/lib/python3.7/dist-packages/atari_py/atari_roms/chopper_command.bin\n",
            "copying defender.bin from HC ROMS/BY ALPHABET/A-G/Defender.bin to /usr/local/lib/python3.7/dist-packages/atari_py/atari_roms/defender.bin\n",
            "copying demon_attack.bin from HC ROMS/BY ALPHABET/A-G/Demon Attack.bin to /usr/local/lib/python3.7/dist-packages/atari_py/atari_roms/demon_attack.bin\n",
            "copying donkey_kong.bin from HC ROMS/BY ALPHABET/A-G/Donkey Kong.bin to /usr/local/lib/python3.7/dist-packages/atari_py/atari_roms/donkey_kong.bin\n",
            "copying double_dunk.bin from HC ROMS/BY ALPHABET/A-G/Double Dunk.bin to /usr/local/lib/python3.7/dist-packages/atari_py/atari_roms/double_dunk.bin\n",
            "copying enduro.bin from HC ROMS/BY ALPHABET/A-G/Enduro.bin to /usr/local/lib/python3.7/dist-packages/atari_py/atari_roms/enduro.bin\n",
            "copying fishing_derby.bin from HC ROMS/BY ALPHABET/A-G/Fishing Derby.bin to /usr/local/lib/python3.7/dist-packages/atari_py/atari_roms/fishing_derby.bin\n",
            "copying freeway.bin from HC ROMS/BY ALPHABET/A-G/Freeway.bin to /usr/local/lib/python3.7/dist-packages/atari_py/atari_roms/freeway.bin\n",
            "copying frogger.bin from HC ROMS/BY ALPHABET/A-G/Frogger.bin to /usr/local/lib/python3.7/dist-packages/atari_py/atari_roms/frogger.bin\n",
            "copying frostbite.bin from HC ROMS/BY ALPHABET/A-G/Frostbite.bin to /usr/local/lib/python3.7/dist-packages/atari_py/atari_roms/frostbite.bin\n",
            "copying galaxian.bin from HC ROMS/BY ALPHABET/A-G/Galaxian.bin to /usr/local/lib/python3.7/dist-packages/atari_py/atari_roms/galaxian.bin\n",
            "copying gopher.bin from HC ROMS/BY ALPHABET/A-G/Gopher.bin to /usr/local/lib/python3.7/dist-packages/atari_py/atari_roms/gopher.bin\n",
            "copying hero.bin from HC ROMS/BY ALPHABET/H-R/H.E.R.O..bin to /usr/local/lib/python3.7/dist-packages/atari_py/atari_roms/hero.bin\n",
            "copying ice_hockey.bin from HC ROMS/BY ALPHABET/H-R/Ice Hockey.bin to /usr/local/lib/python3.7/dist-packages/atari_py/atari_roms/ice_hockey.bin\n",
            "copying journey_escape.bin from HC ROMS/BY ALPHABET/H-R/Journey Escape.bin to /usr/local/lib/python3.7/dist-packages/atari_py/atari_roms/journey_escape.bin\n",
            "copying kaboom.bin from HC ROMS/BY ALPHABET/H-R/Kaboom!.bin to /usr/local/lib/python3.7/dist-packages/atari_py/atari_roms/kaboom.bin\n",
            "copying kangaroo.bin from HC ROMS/BY ALPHABET/H-R/Kangaroo.bin to /usr/local/lib/python3.7/dist-packages/atari_py/atari_roms/kangaroo.bin\n",
            "copying kung_fu_master.bin from HC ROMS/BY ALPHABET/H-R/Kung-Fu Master.bin to /usr/local/lib/python3.7/dist-packages/atari_py/atari_roms/kung_fu_master.bin\n",
            "copying lost_luggage.bin from HC ROMS/BY ALPHABET/H-R/Lost Luggage [no opening scene].bin to /usr/local/lib/python3.7/dist-packages/atari_py/atari_roms/lost_luggage.bin\n",
            "copying ms_pacman.bin from HC ROMS/BY ALPHABET/H-R/Ms. Pac-Man.bin to /usr/local/lib/python3.7/dist-packages/atari_py/atari_roms/ms_pacman.bin\n",
            "copying name_this_game.bin from HC ROMS/BY ALPHABET/H-R/Name This Game.bin to /usr/local/lib/python3.7/dist-packages/atari_py/atari_roms/name_this_game.bin\n",
            "copying phoenix.bin from HC ROMS/BY ALPHABET/H-R/Phoenix.bin to /usr/local/lib/python3.7/dist-packages/atari_py/atari_roms/phoenix.bin\n",
            "copying pitfall.bin from HC ROMS/BY ALPHABET/H-R/Pitfall! - Pitfall Harry's Jungle Adventure.bin to /usr/local/lib/python3.7/dist-packages/atari_py/atari_roms/pitfall.bin\n",
            "copying pooyan.bin from HC ROMS/BY ALPHABET/H-R/Pooyan.bin to /usr/local/lib/python3.7/dist-packages/atari_py/atari_roms/pooyan.bin\n",
            "copying private_eye.bin from HC ROMS/BY ALPHABET/H-R/Private Eye.bin to /usr/local/lib/python3.7/dist-packages/atari_py/atari_roms/private_eye.bin\n",
            "copying qbert.bin from HC ROMS/BY ALPHABET/H-R/Q-bert.bin to /usr/local/lib/python3.7/dist-packages/atari_py/atari_roms/qbert.bin\n",
            "copying riverraid.bin from HC ROMS/BY ALPHABET/H-R/River Raid.bin to /usr/local/lib/python3.7/dist-packages/atari_py/atari_roms/riverraid.bin\n",
            "copying road_runner.bin from patched version of HC ROMS/BY ALPHABET/H-R/Road Runner.bin to /usr/local/lib/python3.7/dist-packages/atari_py/atari_roms/road_runner.bin\n",
            "copying robotank.bin from HC ROMS/BY ALPHABET/H-R/Robot Tank.bin to /usr/local/lib/python3.7/dist-packages/atari_py/atari_roms/robotank.bin\n",
            "copying seaquest.bin from HC ROMS/BY ALPHABET/S-Z/Seaquest.bin to /usr/local/lib/python3.7/dist-packages/atari_py/atari_roms/seaquest.bin\n",
            "copying skiing.bin from HC ROMS/BY ALPHABET/S-Z/Skiing.bin to /usr/local/lib/python3.7/dist-packages/atari_py/atari_roms/skiing.bin\n",
            "copying solaris.bin from HC ROMS/BY ALPHABET/S-Z/Solaris.bin to /usr/local/lib/python3.7/dist-packages/atari_py/atari_roms/solaris.bin\n",
            "copying space_invaders.bin from HC ROMS/BY ALPHABET/S-Z/Space Invaders.bin to /usr/local/lib/python3.7/dist-packages/atari_py/atari_roms/space_invaders.bin\n",
            "copying surround.bin from HC ROMS/BY ALPHABET/S-Z/Surround - Chase.bin to /usr/local/lib/python3.7/dist-packages/atari_py/atari_roms/surround.bin\n",
            "copying tennis.bin from HC ROMS/BY ALPHABET/S-Z/Tennis.bin to /usr/local/lib/python3.7/dist-packages/atari_py/atari_roms/tennis.bin\n",
            "copying trondead.bin from HC ROMS/BY ALPHABET/S-Z/TRON - Deadly Discs.bin to /usr/local/lib/python3.7/dist-packages/atari_py/atari_roms/trondead.bin\n",
            "copying tutankham.bin from HC ROMS/BY ALPHABET/S-Z/Tutankham.bin to /usr/local/lib/python3.7/dist-packages/atari_py/atari_roms/tutankham.bin\n",
            "copying venture.bin from HC ROMS/BY ALPHABET/S-Z/Venture.bin to /usr/local/lib/python3.7/dist-packages/atari_py/atari_roms/venture.bin\n",
            "copying pong.bin from HC ROMS/BY ALPHABET/S-Z/Video Olympics - Pong Sports.bin to /usr/local/lib/python3.7/dist-packages/atari_py/atari_roms/pong.bin\n",
            "copying video_pinball.bin from HC ROMS/BY ALPHABET/S-Z/Video Pinball - Arcade Pinball.bin to /usr/local/lib/python3.7/dist-packages/atari_py/atari_roms/video_pinball.bin\n",
            "copying wizard_of_wor.bin from HC ROMS/BY ALPHABET/S-Z/Wizard of Wor.bin to /usr/local/lib/python3.7/dist-packages/atari_py/atari_roms/wizard_of_wor.bin\n",
            "copying yars_revenge.bin from HC ROMS/BY ALPHABET/S-Z/Yars' Revenge.bin to /usr/local/lib/python3.7/dist-packages/atari_py/atari_roms/yars_revenge.bin\n",
            "copying zaxxon.bin from HC ROMS/BY ALPHABET/S-Z/Zaxxon.bin to /usr/local/lib/python3.7/dist-packages/atari_py/atari_roms/zaxxon.bin\n",
            "copying assault.bin from HC ROMS/NTSC VERSIONS OF PAL ORIGINALS/Assault (AKA Sky Alien) (1983) (Bomb - Onbase) (CA281).bin to /usr/local/lib/python3.7/dist-packages/atari_py/atari_roms/assault.bin\n",
            "copying asterix.bin from ROMS/Asterix (AKA Taz) (07-27-1983) (Atari, Jerome Domurat, Steve Woita) (CX2696) (Prototype).bin to /usr/local/lib/python3.7/dist-packages/atari_py/atari_roms/asterix.bin\n"
          ]
        }
      ]
    },
    {
      "cell_type": "code",
      "metadata": {
        "colab": {
          "base_uri": "https://localhost:8080/"
        },
        "id": "UX1GyZHK4iav",
        "outputId": "895358cd-1bec-46e0-8518-ff1fc21f6f96"
      },
      "source": [
        "!python3 main_ddqn.py"
      ],
      "execution_count": null,
      "outputs": [
        {
          "output_type": "stream",
          "name": "stdout",
          "text": [
            "<string>:6: VisibleDeprecationWarning: Creating an ndarray from ragged nested sequences (which is a list-or-tuple of lists-or-tuples-or ndarrays with different lengths or shapes) is deprecated. If you meant to do this, you must specify 'dtype=object' when creating the ndarray\n",
            "tcmalloc: large alloc 5644804096 bytes == 0x5559723c8000 @  0x7fd002c60001 0x7fd0000cb54f 0x7fd00011bb58 0x7fd00011fb17 0x7fd0001be203 0x55596c546544 0x55596c546240 0x55596c5ba627 0x55596c548039 0x55596c589159 0x55596c5860a4 0x55596c546c52 0x55596c5b9c25 0x55596c5b49ee 0x55596c54848c 0x55596c589159 0x55596c5860a4 0x55596c546d49 0x55596c5ba94f 0x55596c5b49ee 0x55596c5b46f3 0x55596c67e4c2 0x55596c67e83d 0x55596c67e6e6 0x55596c656163 0x55596c655e0c 0x7fd001a48bf7 0x55596c655cea\n",
            "tcmalloc: large alloc 5644804096 bytes == 0x555ac2b16000 @  0x7fd002c60001 0x7fd0000cb54f 0x7fd00011bb58 0x7fd00011fb17 0x7fd0001be203 0x55596c546544 0x55596c546240 0x55596c5ba627 0x55596c548039 0x55596c589159 0x55596c5860a4 0x55596c546c52 0x55596c5b9c25 0x55596c5b49ee 0x55596c54848c 0x55596c589159 0x55596c5860a4 0x55596c546d49 0x55596c5ba94f 0x55596c5b49ee 0x55596c5b46f3 0x55596c67e4c2 0x55596c67e83d 0x55596c67e6e6 0x55596c656163 0x55596c655e0c 0x7fd001a48bf7 0x55596c655cea\n",
            "episode:  0 score:  -20.0  average score -20.0 best score -inf epsilon 0.99 steps 931\n",
            "episode:  1 score:  -21.0  average score -20.5 best score -20.00 epsilon 0.98 steps 1751\n",
            "episode:  2 score:  -20.0  average score -20.3 best score -20.00 epsilon 0.97 steps 2714\n",
            "episode:  3 score:  -21.0  average score -20.5 best score -20.00 epsilon 0.96 steps 3628\n",
            "episode:  4 score:  -20.0  average score -20.4 best score -20.00 epsilon 0.95 steps 4669\n",
            "episode:  5 score:  -21.0  average score -20.5 best score -20.00 epsilon 0.94 steps 5553\n",
            "episode:  6 score:  -19.0  average score -20.3 best score -20.00 epsilon 0.93 steps 6677\n",
            "episode:  7 score:  -21.0  average score -20.4 best score -20.00 epsilon 0.93 steps 7441\n",
            "episode:  8 score:  -21.0  average score -20.4 best score -20.00 epsilon 0.92 steps 8372\n",
            "episode:  9 score:  -21.0  average score -20.5 best score -20.00 epsilon 0.91 steps 9323\n",
            "episode:  10 score:  -21.0  average score -20.5 best score -20.00 epsilon 0.90 steps 10175\n",
            "episode:  11 score:  -21.0  average score -20.6 best score -20.00 epsilon 0.89 steps 10999\n",
            "episode:  12 score:  -20.0  average score -20.5 best score -20.00 epsilon 0.88 steps 11841\n",
            "episode:  13 score:  -21.0  average score -20.6 best score -20.00 epsilon 0.87 steps 12663\n",
            "episode:  14 score:  -21.0  average score -20.6 best score -20.00 epsilon 0.87 steps 13427\n",
            "episode:  15 score:  -21.0  average score -20.6 best score -20.00 epsilon 0.86 steps 14252\n",
            "episode:  16 score:  -18.0  average score -20.5 best score -20.00 epsilon 0.85 steps 15346\n",
            "episode:  17 score:  -20.0  average score -20.4 best score -20.00 epsilon 0.84 steps 16385\n",
            "episode:  18 score:  -21.0  average score -20.5 best score -20.00 epsilon 0.83 steps 17178\n",
            "episode:  19 score:  -21.0  average score -20.5 best score -20.00 epsilon 0.82 steps 17998\n",
            "episode:  20 score:  -21.0  average score -20.5 best score -20.00 epsilon 0.81 steps 18781\n",
            "episode:  21 score:  -19.0  average score -20.5 best score -20.00 epsilon 0.80 steps 19789\n",
            "episode:  22 score:  -21.0  average score -20.5 best score -20.00 epsilon 0.79 steps 20613\n",
            "episode:  23 score:  -20.0  average score -20.5 best score -20.00 epsilon 0.78 steps 21573\n",
            "episode:  24 score:  -21.0  average score -20.5 best score -20.00 epsilon 0.78 steps 22337\n",
            "episode:  25 score:  -20.0  average score -20.5 best score -20.00 epsilon 0.77 steps 23333\n",
            "episode:  26 score:  -20.0  average score -20.4 best score -20.00 epsilon 0.76 steps 24296\n",
            "episode:  27 score:  -21.0  average score -20.5 best score -20.00 epsilon 0.75 steps 25060\n",
            "episode:  28 score:  -21.0  average score -20.5 best score -20.00 epsilon 0.74 steps 25824\n",
            "episode:  29 score:  -19.0  average score -20.4 best score -20.00 epsilon 0.73 steps 27006\n",
            "episode:  30 score:  -20.0  average score -20.4 best score -20.00 epsilon 0.72 steps 27908\n",
            "episode:  31 score:  -20.0  average score -20.4 best score -20.00 epsilon 0.71 steps 28810\n",
            "episode:  32 score:  -21.0  average score -20.4 best score -20.00 epsilon 0.70 steps 29574\n",
            "episode:  33 score:  -21.0  average score -20.4 best score -20.00 epsilon 0.70 steps 30520\n",
            "episode:  34 score:  -21.0  average score -20.5 best score -20.00 epsilon 0.69 steps 31302\n",
            "episode:  35 score:  -20.0  average score -20.4 best score -20.00 epsilon 0.68 steps 32280\n",
            "episode:  36 score:  -21.0  average score -20.5 best score -20.00 epsilon 0.67 steps 33119\n",
            "episode:  37 score:  -20.0  average score -20.4 best score -20.00 epsilon 0.66 steps 34170\n",
            "episode:  38 score:  -20.0  average score -20.4 best score -20.00 epsilon 0.65 steps 35042\n",
            "episode:  39 score:  -21.0  average score -20.4 best score -20.00 epsilon 0.64 steps 35924\n",
            "episode:  40 score:  -21.0  average score -20.5 best score -20.00 epsilon 0.63 steps 36716\n",
            "episode:  41 score:  -20.0  average score -20.5 best score -20.00 epsilon 0.62 steps 37674\n",
            "episode:  42 score:  -20.0  average score -20.4 best score -20.00 epsilon 0.61 steps 38706\n"
          ]
        }
      ]
    }
  ]
}