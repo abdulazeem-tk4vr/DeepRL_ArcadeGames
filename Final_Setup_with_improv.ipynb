{
  "nbformat": 4,
  "nbformat_minor": 0,
  "metadata": {
    "colab": {
      "name": "Final Setup with improv.ipynb",
      "provenance": [],
      "collapsed_sections": [],
      "authorship_tag": "ABX9TyMVEsC/xecHQ6MMRkcm5R3s"
    },
    "kernelspec": {
      "display_name": "Python 3",
      "name": "python3"
    },
    "language_info": {
      "name": "python"
    }
  },
  "cells": [
    {
      "cell_type": "markdown",
      "metadata": {
        "id": "CXgaVgj-Ynhy"
      },
      "source": [
        "Remember to add the files from the DDQN folder to the content folder\n",
        "\n",
        "---\n",
        "\n"
      ]
    },
    {
      "cell_type": "code",
      "metadata": {
        "colab": {
          "base_uri": "https://localhost:8080/"
        },
        "id": "37MDMckztCe_",
        "outputId": "c117799d-7e27-4802-b655-d1c1a304cc37"
      },
      "source": [
        "from google.colab import drive\n",
        "drive.mount('/content/gdrive/')"
      ],
      "execution_count": null,
      "outputs": [
        {
          "output_type": "stream",
          "name": "stdout",
          "text": [
            "Drive already mounted at /content/gdrive/; to attempt to forcibly remount, call drive.mount(\"/content/gdrive/\", force_remount=True).\n"
          ]
        }
      ]
    },
    {
      "cell_type": "code",
      "metadata": {
        "id": "VTHH_x7stGtH"
      },
      "source": [
        "import sys\n",
        "sys.path.append('/content/gdrive/MyDrive/DQN')"
      ],
      "execution_count": null,
      "outputs": []
    },
    {
      "cell_type": "code",
      "metadata": {
        "id": "LlwhVTUmwDJq"
      },
      "source": [
        "!cp drive/MyDrive/DDQN/main_ddqn.py .\n",
        "!cp drive/MyDrive/DDQN/deep_q_network.py .\n",
        "!cp drive/MyDrive/DDQN/ddqn_agent.py .\n",
        "!cp drive/MyDrive/DDQN/replay_memory.py .\n",
        "!cp drive/MyDrive/DDQN/utils.py .\n",
        "!cp drive/MyDrive/DDQN/models ."
      ],
      "execution_count": null,
      "outputs": []
    },
    {
      "cell_type": "code",
      "metadata": {
        "id": "Oa3Iyq8vwvkk"
      },
      "source": [
        "import utils\n",
        "import replay_memory\n",
        "\n",
        "import deep_q_network\n",
        "import main_ddqn\n",
        "import ddqn_agent"
      ],
      "execution_count": null,
      "outputs": []
    },
    {
      "cell_type": "code",
      "metadata": {
        "id": "ER4NVXqLxEZV"
      },
      "source": [
        "import urllib.request\n",
        "urllib.request.urlretrieve('http://www.atarimania.com/roms/Roms.rar','Roms.rar')\n",
        "!pip install unrar\n",
        "!unrar x Roms.rar\n",
        "!mkdir rars\n",
        "!mv HC\\ ROMS.zip   rars\n",
        "!mv ROMS.zip  rars\n",
        "!python -m atari_py.import_roms rars"
      ],
      "execution_count": null,
      "outputs": []
    },
    {
      "cell_type": "code",
      "metadata": {
        "colab": {
          "base_uri": "https://localhost:8080/"
        },
        "id": "UX1GyZHK4iav",
        "outputId": "ea20dbc4-831a-499d-fee1-89d02e45cd99"
      },
      "source": [
        "!python3 main_ddqn.py"
      ],
      "execution_count": null,
      "outputs": [
        {
          "output_type": "stream",
          "name": "stdout",
          "text": [
            "python3: can't open file 'main_ddqn.py': [Errno 2] No such file or directory\n"
          ]
        }
      ]
    }
  ]
}