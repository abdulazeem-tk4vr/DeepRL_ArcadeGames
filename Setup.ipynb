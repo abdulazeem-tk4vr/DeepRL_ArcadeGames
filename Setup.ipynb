{
  "nbformat": 4,
  "nbformat_minor": 0,
  "metadata": {
    "colab": {
      "name": "Setup.ipynb",
      "provenance": [],
      "mount_file_id": "1Kqe3SrIw9-pcuax-uRGyz-rMvMmMQL0T",
      "authorship_tag": "ABX9TyNYrdvJWWUKjPZDmqyycr6n",
      "include_colab_link": true
    },
    "kernelspec": {
      "display_name": "Python 3",
      "name": "python3"
    },
    "language_info": {
      "name": "python"
    }
  },
  "cells": [
    {
      "cell_type": "markdown",
      "metadata": {
        "id": "view-in-github",
        "colab_type": "text"
      },
      "source": [
        "<a href=\"https://colab.research.google.com/github/abdulazeem-tk4vr/DeepRL_ArcadeGames/blob/main/Setup.ipynb\" target=\"_parent\"><img src=\"https://colab.research.google.com/assets/colab-badge.svg\" alt=\"Open In Colab\"/></a>"
      ]
    },
    {
      "cell_type": "markdown",
      "metadata": {
        "id": "CXgaVgj-Ynhy"
      },
      "source": [
        "Remember to add the files from the DQN folder to the content folder"
      ]
    },
    {
      "cell_type": "code",
      "metadata": {
        "id": "37MDMckztCe_"
      },
      "source": [
        "from google.colab import drive\n",
        "drive.mount('/content/gdrive/')"
      ],
      "execution_count": null,
      "outputs": []
    },
    {
      "cell_type": "code",
      "metadata": {
        "id": "VTHH_x7stGtH"
      },
      "source": [
        "import sys\n",
        "sys.path.append('/content/gdrive/MyDrive/DQN')"
      ],
      "execution_count": 25,
      "outputs": []
    },
    {
      "cell_type": "code",
      "metadata": {
        "id": "LlwhVTUmwDJq"
      },
      "source": [
        "!cp drive/MyDrive/DQN/main_dqn.py .\n",
        "!cp drive/MyDrive/DQN/deep_q_network.py .\n",
        "!cp drive/MyDrive/DQN/dqn_agent.py .\n",
        "!cp drive/MyDrive/DQN/replay_memory.py .\n",
        "!cp drive/MyDrive/DQN/utils.py .\n",
        "!cp drive/MyDrive/DQN/models ."
      ],
      "execution_count": null,
      "outputs": []
    },
    {
      "cell_type": "code",
      "metadata": {
        "id": "Oa3Iyq8vwvkk"
      },
      "source": [
        "import utils\n",
        "import replay_memory\n",
        "import dqn_agent\n",
        "import deep_q_network\n",
        "import main_dqn"
      ],
      "execution_count": 27,
      "outputs": []
    },
    {
      "cell_type": "code",
      "metadata": {
        "id": "ER4NVXqLxEZV"
      },
      "source": [
        "import urllib.request\n",
        "urllib.request.urlretrieve('http://www.atarimania.com/roms/Roms.rar','Roms.rar')\n",
        "!pip install unrar\n",
        "!unrar x Roms.rar\n",
        "!mkdir rars\n",
        "!mv HC\\ ROMS.zip   rars\n",
        "!mv ROMS.zip  rars\n",
        "!python -m atari_py.import_roms rars"
      ],
      "execution_count": null,
      "outputs": []
    },
    {
      "cell_type": "code",
      "metadata": {
        "id": "UX1GyZHK4iav"
      },
      "source": [
        "!python3 main_dqn.py"
      ],
      "execution_count": 29,
      "outputs": []
    }
  ]
}